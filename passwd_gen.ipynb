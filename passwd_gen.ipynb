{
 "cells": [
  {
   "cell_type": "code",
   "execution_count": 1,
   "metadata": {},
   "outputs": [
    {
     "name": "stdout",
     "output_type": "stream",
     "text": [
      "bartli09:x:1084:1084:Linda Bartlett,,,:/home/bartli09:/bin/false\n",
      "browro07:x:1008:1008:Robert Brown,,,:/home/browro07:/bin/csh\n",
      "carlbr09:x:1029:1029:Brandon Carlson,,,:/home/carlbr09:/bin/csh\n",
      "chriau05:x:1018:1018:Autumn Christensen,,,:/home/chriau05:/bin/zsh\n",
      "daveli04:x:1090:1090:Lisa Davenport,,,:/home/daveli04:/bin/bash\n",
      "fostmi09:x:1034:1034:Michael Foster,,,:/home/fostmi09:/bin/bash\n",
      "gonzch04:x:1023:1023:Chelsea Gonzalez,,,:/home/gonzch04:/bin/ksh\n",
      "gonzsa09:x:1028:1028:Sarah Gonzalez,,,:/home/gonzsa09:/bin/bash\n",
      "grahri09:x:1005:1005:Richard Graham,,,:/home/grahri09:/bin/bash\n",
      "greema07:x:1062:1062:Mary Green,,,:/home/greema07:/bin/zsh\n",
      "gutian07:x:1040:1040:Annette Gutierrez,,,:/home/gutian07:/bin/csh\n",
      "hopkti05:x:1085:1085:Timothy Hopkins,,,:/home/hopkti05:/bin/false\n",
      "johnwi05:x:1088:1088:William Johnson,,,:/home/johnwi05:/bin/false\n",
      "joneda05:x:1056:1056:David Jones,,,:/home/joneda05:/bin/false\n",
      "joneve01:x:1033:1033:Veronica Jones,,,:/home/joneve01:/bin/bash\n",
      "kingth07:x:1086:1086:Thomas King,,,:/home/kingth07:/bin/zsh\n",
      "mckilo09:x:1099:1099:Logan Mckinney,,,:/home/mckilo09:/bin/zsh\n",
      "newmje01:x:1092:1092:Jeffrey Newman,,,:/home/newmje01:/bin/false\n",
      "nguymi06:x:1037:1037:Michael Nguyen,,,:/home/nguymi06:/bin/zsh\n",
      "reynmi02:x:1015:1015:Michelle Reynolds,,,:/home/reynmi02:/bin/zsh\n",
      "riddsa03:x:1013:1013:Savannah Riddle,,,:/home/riddsa03:/bin/zsh\n",
      "romebr02:x:1014:1014:Brooke Romero,,,:/home/romebr02:/usr/sbin/nologin\n",
      "scotde05:x:1027:1027:Deborah Scott,,,:/home/scotde05:/bin/bash\n",
      "scotlo02:x:1003:1003:Lori Scott,,,:/home/scotlo02:/bin/false\n",
      "soloci02:x:1021:1021:Cindy Solomon,,,:/home/soloci02:/usr/sbin/nologin\n",
      "swanan05:x:1093:1093:Angela Swanson,,,:/home/swanan05:/bin/bash\n",
      "wangdo03:x:1043:1043:Donna Wang,,,:/home/wangdo03:/bin/csh\n",
      "weavro09:x:1009:1009:Robert Weaver,,,:/home/weavro09:/bin/csh\n",
      "whitkr02:x:1075:1075:Krista White,,,:/home/whitkr02:/bin/ksh\n",
      "wilske08:x:1007:1007:Kevin Wilson,,,:/home/wilske08:/bin/bash\n"
     ]
    }
   ],
   "source": [
    "'''Generate a pseudo passwd file'''\n",
    "#!/usr/bin/env python3\n",
    "\n",
    "import random\n",
    "\n",
    "shells = ['/usr/sbin/nologin', '/bin/false', '/bin/bash', '/bin/csh', '/bin/ksh', '/bin/zsh']\n",
    "\n",
    "uid_set = set()\n",
    "\n",
    "with open('roster.txt', 'r') as input_file:\n",
    "    for line in input_file:\n",
    "        name_lst = line.strip().split(', ')\n",
    "        name = name_lst[1] + ' ' + name_lst[0]\n",
    "        uname = name_lst[0][:4] + name_lst[1][:2] + '0' + str(random.randint(1,9))\n",
    "        uname = uname.lower()\n",
    "        uid = random.randint(1000, 1100)\n",
    "        while uid in uid_set:\n",
    "            uid = random.randint(1000, 1100)\n",
    "        uid_set.add(uid)\n",
    "        gid = uid\n",
    "        print(\"{}:{}:{}:{}:{},,,:{}:{}\".format(uname, 'x', uid, gid, name, '/home/'+uname, random.choice(shells)))\n"
   ]
  }
 ],
 "metadata": {
  "kernelspec": {
   "display_name": "Python 3",
   "language": "python",
   "name": "python3"
  },
  "language_info": {
   "codemirror_mode": {
    "name": "ipython",
    "version": 3
   },
   "file_extension": ".py",
   "mimetype": "text/x-python",
   "name": "python",
   "nbconvert_exporter": "python",
   "pygments_lexer": "ipython3",
   "version": "3.5.1"
  }
 },
 "nbformat": 4,
 "nbformat_minor": 2
}
