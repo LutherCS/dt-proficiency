{
 "cells": [
  {
   "cell_type": "code",
   "execution_count": 7,
   "metadata": {},
   "outputs": [
    {
     "name": "stdout",
     "output_type": "stream",
     "text": [
      "beckch07:x:1007:1007:Chloe Beck,,,:/home/beckch07:/bin/ksh\n",
      "bevani02:x:1060:1060:Nicholas Bevans,,,:/home/bevani02:/bin/zsh\n",
      "brosra06:x:1072:1072:Rafael Broseghini,,,:/home/brosra06:/bin/csh\n",
      "camama06:x:1033:1033:Marco Camacho,,,:/home/camama06:/usr/sbin/nologin\n",
      "cobbke07:x:1050:1050:Kevin Cobble,,,:/home/cobbke07:/bin/ksh\n",
      "contjo06:x:1048:1048:Jorge Contreras,,,:/home/contjo06:/bin/bash\n",
      "garipa01:x:1069:1069:Patrick Garin,,,:/home/garipa01:/usr/sbin/nologin\n",
      "hoffka03:x:1093:1093:Karina Hoff,,,:/home/hoffka03:/bin/ksh\n",
      "hummka06:x:1017:1017:Katherine Hummel,,,:/home/hummka06:/usr/sbin/nologin\n",
      "johnbe03:x:1082:1082:Benjamin Johnson,,,:/home/johnbe03:/bin/zsh\n",
      "klinth08:x:1098:1098:Thomas Klinkhammer,,,:/home/klinth08:/bin/false\n",
      "kovabr04:x:1030:1030:Bradley Kovacovich,,,:/home/kovabr04:/bin/ksh\n",
      "logeis04:x:1099:1099:Isaac Logeman,,,:/home/logeis04:/bin/csh\n",
      "mantno02:x:1024:1024:Noah Manternach,,,:/home/mantno02:/usr/sbin/nologin\n",
      "masasa07:x:1008:1008:Samson Masanga,,,:/home/masasa07:/bin/bash\n",
      "millan08:x:1009:1009:Andrew Millan,,,:/home/millan08:/bin/ksh\n",
      "mngonk07:x:1061:1061:Nkosilenhle Mngomezulu,,,:/home/mngonk07:/bin/ksh\n",
      "nteste09:x:1067:1067:Teboho Nteso,,,:/home/nteste09:/bin/csh\n",
      "olsosa02:x:1028:1028:Samuel Olson,,,:/home/olsosa02:/bin/csh\n",
      "osmaah02:x:1037:1037:Ahmed Osman,,,:/home/osmaah02:/bin/zsh\n",
      "petemi03:x:1031:1031:Mitchell Petellin,,,:/home/petemi03:/bin/false\n",
      "petean02:x:1001:1001:Anna Peterson,,,:/home/petean02:/bin/bash\n",
      "reesau05:x:1057:1057:Austin Reese,,,:/home/reesau05:/usr/sbin/nologin\n",
      "rublan07:x:1054:1054:Anna Ruble,,,:/home/rublan07:/bin/bash\n",
      "schmva09:x:1080:1080:Vaughan Schmidt,,,:/home/schmva09:/usr/sbin/nologin\n",
      "sixtsa08:x:1026:1026:Samantha Sixta,,,:/home/sixtsa08:/usr/sbin/nologin\n",
      "suhrda08:x:1086:1086:Daniel Suhr,,,:/home/suhrda08:/bin/false\n",
      "tappma01:x:1032:1032:Maxwell Tapp,,,:/home/tappma01:/bin/zsh\n",
      "uetzau05:x:1043:1043:Austin Uetz,,,:/home/uetzau05:/bin/false\n",
      "whitbr06:x:1096:1096:Brandon Whitish,,,:/home/whitbr06:/bin/false\n",
      "woolsa01:x:1077:1077:Samuel Woollums,,,:/home/woolsa01:/bin/false\n"
     ]
    }
   ],
   "source": [
    "'''Generate a pseudo passwd file'''\n",
    "#!/usr/bin/env python3\n",
    "\n",
    "import random\n",
    "\n",
    "shells = ['/usr/sbin/nologin', '/bin/false', '/bin/bash', '/bin/csh', '/bin/ksh', '/bin/zsh']\n",
    "\n",
    "uid_set = set()\n",
    "\n",
    "with open('roster.txt', 'r') as input_file:\n",
    "    for line in input_file:\n",
    "        name_lst = line.strip().split(', ')\n",
    "        name = name_lst[1] + ' ' + name_lst[0]\n",
    "        uname = name_lst[0][:4] + name_lst[1][:2] + '0' + str(random.randint(1,9))\n",
    "        uname = uname.lower()\n",
    "        uid = random.randint(1000, 1100)\n",
    "        while uid in uid_set:\n",
    "            uid = random.randint(1000, 1100)\n",
    "        uid_set.add(uid)\n",
    "        gid = uid\n",
    "        print(\"{}:{}:{}:{}:{},,,:{}:{}\".format(uname, 'x', uid, gid, name, '/home/'+uname, random.choice(shells)))\n"
   ]
  }
 ],
 "metadata": {
  "kernelspec": {
   "display_name": "Python 3",
   "language": "python",
   "name": "python3"
  },
  "language_info": {
   "codemirror_mode": {
    "name": "ipython",
    "version": 3
   },
   "file_extension": ".py",
   "mimetype": "text/x-python",
   "name": "python",
   "nbconvert_exporter": "python",
   "pygments_lexer": "ipython3",
   "version": "3.5.1"
  }
 },
 "nbformat": 4,
 "nbformat_minor": 2
}
