{
 "cells": [
  {
   "cell_type": "markdown",
   "metadata": {},
   "source": [
    "# Software Development Tools\n",
    "\n",
    "This notebook describes basic commands we cover in class. You should execute them in the terminal of your Ubuntu.\n",
    "\n",
    "* [Basic Linux Commands](http://www.debianhelp.co.uk/commands.htm)\n",
    "* [Basic UNIX commands](http://mally.stanford.edu/~sr/computing/basic-unix.html)\n",
    "* [UNIX command summary](http://www.bsd.org/unixcmds.html)\n",
    "* [Unix Commands](https://pangea.stanford.edu/computing/unix/shell/commands.php)\n",
    "* [Introduction to Unix commands](https://kb.iu.edu/d/afsk)\n",
    "* [50 Most Frequently Used UNIX / Linux Commands (With Examples)](http://www.thegeekstuff.com/2010/11/50-linux-commands/)\n"
   ]
  },
  {
   "cell_type": "markdown",
   "metadata": {},
   "source": [
    "## Linux commands\n",
    "\n",
    "### General\n",
    "\n",
    "* alias\n",
    "* clear\n",
    "* echo\n",
    "* exit\n",
    "* history\n",
    "* less\n",
    "* logout (use Ctrl+D)\n",
    "* **man**\n",
    "\n",
    "### Files and directories\n",
    "\n",
    "* cat\n",
    "* cd\n",
    "* chmod\n",
    "* chown (requires **sudo**)\n",
    "* cp\n",
    "* find\n",
    "* ls\n",
    "* locate\n",
    "* mkdir\n",
    "* mv\n",
    "* pwd\n",
    "* rm\n",
    "* rmdir\n",
    "* tail\n",
    "* touch\n",
    "\n",
    "### User management\n",
    "\n",
    "* adduser (requires **sudo**)\n",
    "* deluser (requires **sudo**)\n",
    "* groups\n",
    "* passwd\n",
    "* usermod (requires **sudo**)\n",
    "* w\n",
    "* who\n",
    "* whoami\n",
    "\n",
    "### System\n",
    "\n",
    "* date\n",
    "* shutdown\n",
    "* uname\n",
    "* uptime\n",
    "* which\n",
    "\n",
    "### Process management\n",
    "\n",
    "* kill\n",
    "* ps\n",
    "* top\n",
    "\n",
    "### Networking\n",
    "\n",
    "* ifconfig\n",
    "* ip\n",
    "* nslookup\n",
    "* ping\n",
    "\n",
    "### Tools\n",
    "\n",
    "* bc\n",
    "* comm\n",
    "* cut\n",
    "* sort\n",
    "* tr\n",
    "* uniq\n",
    "* wc\n",
    "\n",
    "### Pipes and redirection\n",
    "* Pipe: |\n",
    "* Input redirection: <\n",
    "* Output redirection: >\n",
    "* Standard output stream 1>\n",
    "* Standard error stream 2>"
   ]
  },
  {
   "cell_type": "code",
   "execution_count": 1,
   "metadata": {},
   "outputs": [
    {
     "name": "stdout",
     "output_type": "stream",
     "text": [
      "Hello world\n"
     ]
    },
    {
     "name": "stderr",
     "output_type": "stream",
     "text": [
      "What manual page do you want?\n"
     ]
    }
   ],
   "source": [
    "%%bash\n",
    "# This is a comment\n",
    "# Print something to the standart output\n",
    "echo 'Hello world'\n",
    "# Get help\n",
    "man\n",
    "# Proper usage: man command"
   ]
  },
  {
   "cell_type": "code",
   "execution_count": 2,
   "metadata": {},
   "outputs": [
    {
     "name": "stdout",
     "output_type": "stream",
     "text": [
      "/usr/share/dict/american-english\n"
     ]
    }
   ],
   "source": [
    "%%bash\n",
    "# Find a file by name in a specific directory\n",
    "find /usr -name american-english"
   ]
  },
  {
   "cell_type": "code",
   "execution_count": 3,
   "metadata": {},
   "outputs": [
    {
     "name": "stdout",
     "output_type": "stream",
     "text": [
      "/usr/share/dict/american-english\n",
      "/usr/share/man/man5/american-english.5.gz\n"
     ]
    }
   ],
   "source": [
    "%%bash\n",
    "# Find a file, another command\n",
    "locate american-english"
   ]
  },
  {
   "cell_type": "code",
   "execution_count": 4,
   "metadata": {},
   "outputs": [
    {
     "name": "stdout",
     "output_type": "stream",
     "text": [
      "/home/faculty/yasiro01/courses/swdt-class-pub\n"
     ]
    }
   ],
   "source": [
    "%%bash\n",
    "# Print the name of the current (working) directory\n",
    "pwd"
   ]
  },
  {
   "cell_type": "code",
   "execution_count": 5,
   "metadata": {},
   "outputs": [
    {
     "name": "stdout",
     "output_type": "stream",
     "text": [
      "/home/faculty/yasiro01/courses/swdt-class-pub\n",
      "/\n",
      "/home/faculty/yasiro01\n",
      "/home/faculty/yasiro01\n",
      "/home/faculty/yasiro01\n",
      "/home/faculty\n"
     ]
    },
    {
     "name": "stderr",
     "output_type": "stream",
     "text": [
      "bash: line 10: cd: courses/swt-class-pub: No such file or directory\n"
     ]
    }
   ],
   "source": [
    "%%bash\n",
    "# Navigate between directories\n",
    "pwd\n",
    "# Go to the root directory\n",
    "cd /\n",
    "pwd\n",
    "# Go to *your* home directory\n",
    "cd\n",
    "pwd\n",
    "# Go to the a specific subdirectory of the current one\n",
    "cd courses/swt-class-pub\n",
    "pwd\n",
    "# Go to *your* home directory\n",
    "cd ~\n",
    "pwd\n",
    "# Go to the parent directory (up one level)\n",
    "cd ..\n",
    "pwd"
   ]
  },
  {
   "cell_type": "code",
   "execution_count": 6,
   "metadata": {},
   "outputs": [
    {
     "name": "stdout",
     "output_type": "stream",
     "text": [
      "fnord.txt\n",
      "library_gen.ipynb\n",
      "library.txt\n",
      "linux_commands.ipynb\n",
      "linux_commands.md\n",
      "passwd_gen.ipynb\n",
      "roster.txt\n",
      "sorted_words\n"
     ]
    }
   ],
   "source": [
    "%%bash\n",
    "# List the content (files and directories) of the current directory\n",
    "ls"
   ]
  },
  {
   "cell_type": "code",
   "execution_count": 7,
   "metadata": {},
   "outputs": [
    {
     "name": "stdout",
     "output_type": "stream",
     "text": [
      "bin\n",
      "boot\n",
      "dev\n",
      "etc\n",
      "home\n",
      "initrd.img\n",
      "initrd.img.old\n",
      "lib\n",
      "lib64\n",
      "lost+found\n",
      "media\n",
      "mnt\n",
      "nsr\n",
      "opt\n",
      "proc\n",
      "project\n",
      "restore\n",
      "root\n",
      "run\n",
      "sbin\n",
      "snap\n",
      "srv\n",
      "sys\n",
      "tmp\n",
      "usr\n",
      "var\n",
      "vmlinuz\n",
      "vmlinuz.old\n"
     ]
    }
   ],
   "source": [
    "%%bash\n",
    "# List the content of the root directory\n",
    "ls /"
   ]
  },
  {
   "cell_type": "code",
   "execution_count": 8,
   "metadata": {},
   "outputs": [
    {
     "name": "stdout",
     "output_type": "stream",
     "text": [
      "total 276\n",
      "drwxr-xr-x 6 yasiro01 Faculty   4096 Sep  8 12:34 courses\n",
      "-rw-r--r-- 1 yasiro01 users     8980 Sep 29  2016 examples.desktop\n",
      "drwxr-xr-x 3 yasiro01 users     4096 Feb 16  2017 public_html\n",
      "-rw-r--r-- 1 yasiro01 Faculty   7509 Sep  8 10:29 snippets.ipynb\n",
      "-rw-r--r-- 1 yasiro01 Faculty 215017 Oct 26  2016 SortCompare.ipynb\n",
      "-rw-r--r-- 1 yasiro01 Faculty  23124 Feb 16  2017 tao_of_python.ipynb\n",
      "-rw-r--r-- 1 yasiro01 Faculty   8520 Nov  3  2016 TreePlotting.ipynb\n"
     ]
    }
   ],
   "source": [
    "%%bash\n",
    "# List the content of the directory /home/faculty/yasiro01 in a long format\n",
    "ls -l /home/faculty/yasiro01"
   ]
  },
  {
   "cell_type": "code",
   "execution_count": 9,
   "metadata": {},
   "outputs": [
    {
     "name": "stdout",
     "output_type": "stream",
     "text": [
      "-rw-r--r-- 1 yasiro01 Faculty 19671 Sep  8 13:02 linux_commands.ipynb\n"
     ]
    }
   ],
   "source": [
    "%%bash\n",
    "# Display information about a specific file\n",
    "ls -l linux_commands.ipynb"
   ]
  },
  {
   "cell_type": "code",
   "execution_count": 10,
   "metadata": {},
   "outputs": [
    {
     "name": "stderr",
     "output_type": "stream",
     "text": [
      "ls: cannot access 'new_file': No such file or directory\n"
     ]
    }
   ],
   "source": [
    "%%bash\n",
    "# Display information about a non-existing file\n",
    "ls -l new_file"
   ]
  },
  {
   "cell_type": "code",
   "execution_count": 11,
   "metadata": {},
   "outputs": [
    {
     "name": "stdout",
     "output_type": "stream",
     "text": [
      "-rw-r--r-- 1 yasiro01 Faculty 0 Sep  8 13:02 new_file\n"
     ]
    }
   ],
   "source": [
    "%%bash\n",
    "# Create a new empty file\n",
    "touch new_file\n",
    "ls -l new_file"
   ]
  },
  {
   "cell_type": "code",
   "execution_count": 12,
   "metadata": {},
   "outputs": [
    {
     "name": "stdout",
     "output_type": "stream",
     "text": [
      "hello world\n",
      "today is Fri Sep 8 13:02:35 CDT 2017\n",
      "      2      10      49\n"
     ]
    }
   ],
   "source": [
    "%%bash\n",
    "# Write hello world to a file\n",
    "echo hello world > example.txt\n",
    "# Append current date (result of the date command) to a file at the second line\n",
    "echo today is `date` >> example.txt\n",
    "# Display file content\n",
    "cat example.txt\n",
    "# Display number of lines in a file\n",
    "cat example.txt | wc"
   ]
  },
  {
   "cell_type": "code",
   "execution_count": 13,
   "metadata": {},
   "outputs": [
    {
     "name": "stdout",
     "output_type": "stream",
     "text": [
      "-rw-r--r-- 1 yasiro01 Faculty 49 Sep  8 13:02 another_example.txt\n",
      "-rw-r--r-- 1 yasiro01 Faculty 49 Sep  8 13:02 example.txt\n"
     ]
    }
   ],
   "source": [
    "%%bash\n",
    "# Copy a file\n",
    "cp example.txt another_example.txt\n",
    "# * means any character(s). This command lists all files ending in example.txt\n",
    "ls -l *example.txt"
   ]
  },
  {
   "cell_type": "code",
   "execution_count": 14,
   "metadata": {},
   "outputs": [
    {
     "name": "stdout",
     "output_type": "stream",
     "text": [
      "-rw-r--r-- 1 yasiro01 Faculty 49 Sep  8 13:02 example.txt\n",
      "-rw-r--r-- 1 yasiro01 Faculty 49 Sep  8 13:02 yet_another_example.txt\n"
     ]
    }
   ],
   "source": [
    "%%bash\n",
    "# Move (or rename) a file\n",
    "mv another_example.txt yet_another_example.txt\n",
    "ls -l *example.txt"
   ]
  },
  {
   "cell_type": "code",
   "execution_count": 15,
   "metadata": {},
   "outputs": [
    {
     "name": "stdout",
     "output_type": "stream",
     "text": [
      "-rw-r--r-- 1 yasiro01 Faculty 49 Sep  8 13:02 example.txt\n"
     ]
    }
   ],
   "source": [
    "%%bash\n",
    "# Delete a file\n",
    "rm yet_another_example.txt\n",
    "ls -l *example.txt"
   ]
  },
  {
   "cell_type": "code",
   "execution_count": 16,
   "metadata": {},
   "outputs": [
    {
     "name": "stdout",
     "output_type": "stream",
     "text": [
      "-rwxr-xr-x 1 yasiro01 Faculty 49 Sep  8 13:02 example.txt\n",
      "-r-xr-xr-x 1 yasiro01 Faculty 49 Sep  8 13:02 example.txt\n",
      "-rw-r--r-- 1 yasiro01 Faculty 49 Sep  8 13:02 example.txt\n"
     ]
    }
   ],
   "source": [
    "%%bash\n",
    "# Change a file mode\n",
    "chmod 755 example.txt\n",
    "ls -l *example.txt\n",
    "chmod -w example.txt\n",
    "ls -l *example.txt\n",
    "# Numeric representation of the mode\n",
    "chmod 644 example.txt\n",
    "ls -l *example.txt"
   ]
  },
  {
   "cell_type": "code",
   "execution_count": 17,
   "metadata": {},
   "outputs": [
    {
     "name": "stdout",
     "output_type": "stream",
     "text": [
      "new_file\n"
     ]
    }
   ],
   "source": [
    "%%bash\n",
    "# Create (make) a new directory\n",
    "mkdir new_dir\n",
    "touch new_dir/new_file\n",
    "ls new_dir"
   ]
  },
  {
   "cell_type": "code",
   "execution_count": 18,
   "metadata": {
    "collapsed": true
   },
   "outputs": [],
   "source": [
    "%%bash\n",
    "# Delete (remove) a directory\n",
    "rm -rf new_dir"
   ]
  },
  {
   "cell_type": "code",
   "execution_count": 19,
   "metadata": {},
   "outputs": [
    {
     "name": "stdout",
     "output_type": "stream",
     "text": [
      "yasiro01\n"
     ]
    }
   ],
   "source": [
    "%%bash\n",
    "# See your username\n",
    "whoami"
   ]
  },
  {
   "cell_type": "code",
   "execution_count": 20,
   "metadata": {},
   "outputs": [
    {
     "name": "stdout",
     "output_type": "stream",
     "text": [
      "yasiro01 : Faculty\n"
     ]
    }
   ],
   "source": [
    "%%bash\n",
    "# Display groups the user belongs to\n",
    "groups yasiro01"
   ]
  },
  {
   "cell_type": "code",
   "execution_count": 21,
   "metadata": {},
   "outputs": [
    {
     "name": "stdout",
     "output_type": "stream",
     "text": [
      "millbr02 pts/8        2017-09-05 14:18 (10.24.10.4)\n",
      "millbr02 pts/12       2017-08-30 09:21 (10.24.10.4)\n",
      "millbr02 pts/13       2017-08-30 09:44 (10.24.10.4)\n",
      "millbr02 pts/14       2017-09-06 09:13 (10.24.10.4)\n",
      "stuckmch pts/18       2017-09-06 15:18 (10.22.2.28)\n"
     ]
    }
   ],
   "source": [
    "%%bash\n",
    "# See logged in users\n",
    "who"
   ]
  },
  {
   "cell_type": "code",
   "execution_count": 22,
   "metadata": {},
   "outputs": [
    {
     "name": "stdout",
     "output_type": "stream",
     "text": [
      " 13:02:36 up 15 days,  5:54,  5 users,  load average: 1.15, 1.11, 1.04\n",
      "USER     TTY      FROM             LOGIN@   IDLE   JCPU   PCPU WHAT\n",
      "millbr02 pts/8    10.24.10.4       Tue14    3:39m  0.42s  0.36s ssh apc\n",
      "millbr02 pts/12   10.24.10.4       30Aug17  3days  6:13   3.00s -bash\n",
      "millbr02 pts/13   10.24.10.4       30Aug17  3days  0.27s  0.21s ssh apc\n",
      "millbr02 pts/14   10.24.10.4       Wed09   26:43m  0.25s  0.08s /usr/lib/postgresql/9.3/bin/psql world\n",
      "stuckmch pts/18   10.22.2.28       Wed15   45:34m  0.29s  0.06s sshd: stuckmch [priv]\n"
     ]
    }
   ],
   "source": [
    "%%bash\n",
    "# See logged in users and their activity\n",
    "w"
   ]
  },
  {
   "cell_type": "code",
   "execution_count": 23,
   "metadata": {},
   "outputs": [
    {
     "name": "stdout",
     "output_type": "stream",
     "text": [
      "Linux knuth 4.4.0-92-generic #115-Ubuntu SMP Thu Aug 10 09:04:33 UTC 2017 x86_64 x86_64 x86_64 GNU/Linux\n"
     ]
    }
   ],
   "source": [
    "%%bash\n",
    "# Print the name of the system\n",
    "uname -a"
   ]
  },
  {
   "cell_type": "code",
   "execution_count": 24,
   "metadata": {},
   "outputs": [
    {
     "name": "stdout",
     "output_type": "stream",
     "text": [
      "Fri Sep  8 13:02:36 CDT 2017\n"
     ]
    }
   ],
   "source": [
    "%%bash\n",
    "# Print the date and time of the system\n",
    "date"
   ]
  },
  {
   "cell_type": "code",
   "execution_count": 25,
   "metadata": {},
   "outputs": [
    {
     "name": "stdout",
     "output_type": "stream",
     "text": [
      " 13:02:36 up 15 days,  5:54,  5 users,  load average: 1.15, 1.11, 1.04\n"
     ]
    }
   ],
   "source": [
    "%%bash\n",
    "# Print the system's uptime\n",
    "uptime"
   ]
  },
  {
   "cell_type": "code",
   "execution_count": 26,
   "metadata": {},
   "outputs": [
    {
     "name": "stdout",
     "output_type": "stream",
     "text": [
      "/usr/bin/python\n"
     ]
    }
   ],
   "source": [
    "%%bash\n",
    "# Print the path to the application by its name\n",
    "which python"
   ]
  },
  {
   "cell_type": "code",
   "execution_count": 27,
   "metadata": {},
   "outputs": [
    {
     "name": "stdout",
     "output_type": "stream",
     "text": [
      "yasiro01\n",
      "whoami\n",
      "yasiro01\n",
      "yasiro01\n"
     ]
    }
   ],
   "source": [
    "%%bash\n",
    "# Display the result of a command execution\n",
    "whoami\n",
    "# Display the result of a command execution. Wrong way\n",
    "echo whoami\n",
    "# Ticks allow you to use the result of a command execution\n",
    "echo `whoami`\n",
    "# Ticks allow you to use the result of a command execution\n",
    "`echo whoami`"
   ]
  },
  {
   "cell_type": "code",
   "execution_count": 28,
   "metadata": {},
   "outputs": [
    {
     "name": "stdout",
     "output_type": "stream",
     "text": [
      "4\n",
      "8\n",
      "16\n"
     ]
    }
   ],
   "source": [
    "%%bash\n",
    "# Simple bash calculator\n",
    "echo 2*2 | bc\n",
    "echo 2^3 | bc\n",
    "echo 160 / 10 | bc"
   ]
  },
  {
   "cell_type": "code",
   "execution_count": 29,
   "metadata": {},
   "outputs": [
    {
     "name": "stdout",
     "output_type": "stream",
     "text": [
      "total 984\n",
      "-rw-r--r-- 1 yasiro01 Faculty     49 Sep  8 13:02 example.txt\n",
      "-rw-r--r-- 1 yasiro01 Faculty   3017 Sep  7 15:22 fnord.txt\n",
      "-rw-r--r-- 1 yasiro01 Faculty   3340 Mar  2  2017 library_gen.ipynb\n",
      "-rw-r--r-- 1 yasiro01 Faculty  12021 Feb 20  2017 library.txt\n",
      "-rw-r--r-- 1 yasiro01 Faculty  19671 Sep  8 13:02 linux_commands.ipynb\n",
      "-rw-r--r-- 1 yasiro01 Faculty   8386 Sep  8 12:43 linux_commands.md\n",
      "-rw-r--r-- 1 yasiro01 Faculty      0 Sep  8 13:02 new_file\n",
      "-rw-r--r-- 1 yasiro01 Faculty   3943 Aug 12 19:04 passwd_gen.ipynb\n",
      "-rw-r--r-- 1 yasiro01 Faculty    467 Aug 13 20:59 roster.txt\n",
      "-rw-r--r-- 1 yasiro01 Faculty 938848 Sep  8 12:57 sorted_words\n",
      "---\n",
      "total 984 -rw-r--r-- 1 yasiro01 Faculty 49 Sep 8 13:02 example.txt -rw-r--r-- 1 yasiro01 Faculty 3017 Sep 7 15:22 fnord.txt -rw-r--r-- 1 yasiro01 Faculty 3340 Mar 2 2017 library_gen.ipynb -rw-r--r-- 1 yasiro01 Faculty 12021 Feb 20 2017 library.txt -rw-r--r-- 1 yasiro01 Faculty 19671 Sep 8 13:02 linux_commands.ipynb -rw-r--r-- 1 yasiro01 Faculty 8386 Sep 8 12:43 linux_commands.md -rw-r--r-- 1 yasiro01 Faculty 0 Sep 8 13:02 new_file -rw-r--r-- 1 yasiro01 Faculty 3943 Aug 12 19:04 passwd_gen.ipynb -rw-r--r-- 1 yasiro01 Faculty 467 Aug 13 20:59 roster.txt -rw-r--r-- 1 yasiro01 Faculty 938848 Sep 8 12:57 sorted_words\n",
      "---\n",
      "11\n",
      "---\n",
      "11 - 1\n",
      "---\n",
      "10\n"
     ]
    }
   ],
   "source": [
    "%%bash\n",
    "# Pipes and calculations\n",
    "ls -l\n",
    "echo '---'\n",
    "echo `ls -l`\n",
    "echo '---'\n",
    "echo `ls -l | wc -l`\n",
    "echo '---'\n",
    "echo `ls -l | wc -l` - 1\n",
    "echo '---'\n",
    "echo `ls -l | wc -l` - 1 | bc"
   ]
  },
  {
   "cell_type": "code",
   "execution_count": 30,
   "metadata": {},
   "outputs": [
    {
     "name": "stdout",
     "output_type": "stream",
     "text": [
      "10\n"
     ]
    }
   ],
   "source": [
    "%%bash\n",
    "# Display number of files in a directory by counting lines and subtracting 1\n",
    "echo `ls -l | wc -l` - 1 | bc"
   ]
  },
  {
   "cell_type": "code",
   "execution_count": 31,
   "metadata": {},
   "outputs": [
    {
     "name": "stdout",
     "output_type": "stream",
     "text": [
      "\n",
      "alucard\n",
      "american\n",
      "apr\n",
      "binky\n",
      "centere\n",
      "da\n",
      "etc\n",
      "fnord\n",
      "fnords\n",
      "hq\n",
      "inc\n",
      "madison\n",
      "poeple\n",
      "polyspock\n",
      "revultion\n",
      "ror\n",
      "sdbp\n",
      "shawn\n",
      "somthing\n",
      "texbooks\n",
      "tfile\n",
      "ya\n"
     ]
    }
   ],
   "source": [
    "%%bash\n",
    "sort /usr/share/dict/words > sorted_words\n",
    "tr 'A-Z' 'a-z' < fnord.txt | tr -cs 'a-z' '\\n' | sort | uniq | comm -23 - sorted_words"
   ]
  },
  {
   "cell_type": "code",
   "execution_count": 32,
   "metadata": {
    "collapsed": true
   },
   "outputs": [],
   "source": [
    "%%bash\n",
    "# Cleaning up for the next run\n",
    "if [ -a example.txt ] ; then rm example.txt ; fi\n",
    "if [ -a new_file ] ; then rm new_file ; fi\n",
    "if [ -a sorted_words ] ; then rm sorted_words ; fi"
   ]
  }
 ],
 "metadata": {
  "kernelspec": {
   "display_name": "Python 3",
   "language": "python",
   "name": "python3"
  },
  "language_info": {
   "codemirror_mode": {
    "name": "ipython",
    "version": 3
   },
   "file_extension": ".py",
   "mimetype": "text/x-python",
   "name": "python",
   "nbconvert_exporter": "python",
   "pygments_lexer": "ipython3",
   "version": "3.5.1"
  }
 },
 "nbformat": 4,
 "nbformat_minor": 2
}
