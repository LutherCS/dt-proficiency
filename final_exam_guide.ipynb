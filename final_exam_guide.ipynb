{
 "cells": [
  {
   "cell_type": "markdown",
   "metadata": {},
   "source": [
    "# Software Development Tools (CS 165)\n",
    "\n",
    "## Final Exam Guide\n",
    "\n",
    " * Linux/UNIX comands\n",
    " * Pipes and redirection\n",
    " * Scripts\n",
    " * Regular expressions\n",
    " * Remote access\n",
    " * Git\n",
    "\n",
    "See [Linux commands](linux_commands.ipynb) for detailed comamnds guide"
   ]
  },
  {
   "cell_type": "code",
   "execution_count": 1,
   "metadata": {},
   "outputs": [
    {
     "name": "stdout",
     "output_type": "stream",
     "text": [
      "UID        PID  PPID  C STIME TTY          TIME CMD\r\n",
      "yasiro01 23106 23105  0 21:10 pts/78   00:00:00 ps -f --sort=-rss\r\n",
      "yasiro01 23105 23078  0 21:10 pts/78   00:00:00 /bin/sh -c ps -f --sort=-rss | head -n 10\r\n",
      "yasiro01 23107 23105  0 21:10 pts/78   00:00:00 head -n 10\r\n"
     ]
    }
   ],
   "source": [
    "# see processes and sort them by memory usage (head cuts output after 10 lines)\n",
    "!ps -f --sort=-rss | head -n 10"
   ]
  },
  {
   "cell_type": "code",
   "execution_count": 2,
   "metadata": {},
   "outputs": [
    {
     "name": "stdout",
     "output_type": "stream",
     "text": [
      "S UID        PID  PPID  C PRI  NI   RSS    SZ WCHAN  STIME TTY          TIME CMD\r\n",
      "S yasiro01 23108 23078  0  80   0   752  1127 wait   21:10 pts/78   00:00:00 /bin/sh -c ps -lfy --sort=-time | head -n 10\r\n",
      "R yasiro01 23109 23108  0  80   0  1440  7282 -      21:10 pts/78   00:00:00 ps -lfy --sort=-time\r\n",
      "S yasiro01 23110 23108  0  80   0   684  1826 pipe_w 21:10 pts/78   00:00:00 head -n 10\r\n"
     ]
    }
   ],
   "source": [
    "# see processes from all users and sort them by memory usage (head cuts output after 10 lines)\n",
    "!ps -lfy --sort=-time | head -n 10"
   ]
  },
  {
   "cell_type": "code",
   "execution_count": 3,
   "metadata": {},
   "outputs": [
    {
     "name": "stdout",
     "output_type": "stream",
     "text": [
      "lo        Link encap:Local Loopback  \r\n",
      "          inet addr:127.0.0.1  Mask:255.0.0.0\r\n",
      "          inet6 addr: ::1/128 Scope:Host\r\n",
      "          UP LOOPBACK RUNNING  MTU:65536  Metric:1\r\n",
      "          RX packets:145356737 errors:0 dropped:0 overruns:0 frame:0\r\n",
      "          TX packets:145356737 errors:0 dropped:0 overruns:0 carrier:0\r\n",
      "          collisions:0 txqueuelen:1 \r\n",
      "          RX bytes:501623479400 (501.6 GB)  TX bytes:501623479400 (501.6 GB)\r\n",
      "\r\n"
     ]
    }
   ],
   "source": [
    "# Network interface configuration, lo is a local loopback interface\n",
    "!ifconfig lo"
   ]
  },
  {
   "cell_type": "code",
   "execution_count": 4,
   "metadata": {},
   "outputs": [
    {
     "name": "stdout",
     "output_type": "stream",
     "text": [
      "fnord.txt\r\n"
     ]
    }
   ],
   "source": [
    "# Redirect default output to mystery.txt. The content of mystery.txt is the output of the command find fnord.txt\n",
    "!find fnord.txt 1> mystery.txt\n",
    "!cat mystery.txt\n",
    "!rm mystery.txt"
   ]
  },
  {
   "cell_type": "code",
   "execution_count": 5,
   "metadata": {},
   "outputs": [
    {
     "name": "stdout",
     "output_type": "stream",
     "text": [
      "HEllo WorlD\r\n"
     ]
    }
   ],
   "source": [
    "# Map (translate) set of characters to something else\n",
    "!echo 'Hello World' | tr 'a-k' 'A-K'"
   ]
  },
  {
   "cell_type": "code",
   "execution_count": 6,
   "metadata": {},
   "outputs": [
    {
     "name": "stdout",
     "output_type": "stream",
     "text": [
      ".:\n",
      "total 13976\n",
      "-rw-r--r-- 1 yasiro01 Faculty 13114317 Sep 26 12:39 pattern_matching.ipynb\n",
      "-rw-r--r-- 1 yasiro01 Faculty  1000969 Sep  8 23:38 linux_commands.ipynb\n",
      "-rw-r--r-- 1 yasiro01 Faculty    59245 Sep 26 12:17 error.log\n",
      "-rw-r--r-- 1 yasiro01 Faculty    37966 Sep 21 10:58 animals.txt\n",
      "-rw-r--r-- 1 yasiro01 Faculty    12021 Sep 20 13:08 library.txt\n",
      "-rw-r--r-- 1 yasiro01 Faculty    10226 Sep  8 13:03 linux_commands.md\n",
      "-rw-r--r-- 1 yasiro01 Faculty     8132 Sep 27 21:08 final_exam_guide.ipynb\n",
      "-rw-r--r-- 1 yasiro01 Faculty     7740 Sep 20 15:13 library_gen.ipynb\n",
      "ls: write error: Broken pipe\n"
     ]
    }
   ],
   "source": [
    "# List all files in a directory and its subdirectories, sorting them by size\n",
    "!ls -alRS | head -n 10"
   ]
  },
  {
   "cell_type": "code",
   "execution_count": 7,
   "metadata": {},
   "outputs": [
    {
     "name": "stdout",
     "output_type": "stream",
     "text": [
      "235\r\n"
     ]
    }
   ],
   "source": [
    "# Count number of files in a directory and its subdirectories. All errors are sent to /dev/null\n",
    "!ls -AR 2>/dev/null | wc -l"
   ]
  },
  {
   "cell_type": "code",
   "execution_count": 8,
   "metadata": {},
   "outputs": [],
   "source": [
    "# Go to the root directory\n",
    "!cd /\n",
    "# Go to the home directory\n",
    "!cd ~\n",
    "# Go to the parent directory\n",
    "!cd ..\n",
    "# Go to the home directory\n",
    "!cd"
   ]
  },
  {
   "cell_type": "code",
   "execution_count": 9,
   "metadata": {},
   "outputs": [
    {
     "name": "stdout",
     "output_type": "stream",
     "text": [
      "-rw-r--r-- 1 yasiro01 Faculty 0 Sep 27 21:10 test_chmod.txt\r\n"
     ]
    }
   ],
   "source": [
    "# Create an empty file\n",
    "!touch test_chmod.txt\n",
    "!ls -l test_chmod.txt"
   ]
  },
  {
   "cell_type": "code",
   "execution_count": 10,
   "metadata": {},
   "outputs": [
    {
     "name": "stdout",
     "output_type": "stream",
     "text": [
      "-rwxr-xr-x 1 yasiro01 Faculty 0 Sep 27 21:10 test_chmod.txt\r\n"
     ]
    }
   ],
   "source": [
    "# Change file mode and make it executable\n",
    "!chmod +x test_chmod.txt\n",
    "!ls -l test_chmod.txt"
   ]
  },
  {
   "cell_type": "code",
   "execution_count": 11,
   "metadata": {},
   "outputs": [
    {
     "name": "stdout",
     "output_type": "stream",
     "text": [
      "-r-xr-xr-x 1 yasiro01 Faculty 0 Sep 27 21:10 test_chmod.txt\r\n"
     ]
    }
   ],
   "source": [
    "# Change file mode and make it non-writable\n",
    "!chmod -w test_chmod.txt\n",
    "!ls -l test_chmod.txt"
   ]
  },
  {
   "cell_type": "code",
   "execution_count": 12,
   "metadata": {},
   "outputs": [],
   "source": [
    "# Remove a file by force (e.g. a read-only)\n",
    "!rm -f test_chmod.txt"
   ]
  },
  {
   "cell_type": "code",
   "execution_count": 13,
   "metadata": {},
   "outputs": [
    {
     "name": "stdout",
     "output_type": "stream",
     "text": [
      "ls: cannot open directory 'test_chmod': Permission denied\n",
      "/bin/sh: 1: cd: can't cd to test_chmod\n"
     ]
    }
   ],
   "source": [
    "# Directory permissions\n",
    "!mkdir test_chmod\n",
    "# Stop everyone from seeing the files in test_chmod\n",
    "!chmod -r test_chmod\n",
    "!ls test_chmod\n",
    "# Stop everyone from going into test_chmod\n",
    "!chmod -x test_chmod\n",
    "!cd test_chmod\n",
    "!rm -rf test_chmod"
   ]
  },
  {
   "cell_type": "markdown",
   "metadata": {},
   "source": [
    "### Pipes and redirection\n",
    "\n",
    " * Use << to redirect input from a file\n",
    " * Use > to redirect output to a file (overwrite)\n",
    " * Use >> to redirect output to a file (append)\n",
    " * Use command 1> file to send standard command output to a file\n",
    " * Use command 2> file to send error command output to a file\n",
    " * Use cat <file> | command to send content of the file to a command input"
   ]
  },
  {
   "cell_type": "markdown",
   "metadata": {},
   "source": [
    "### Scripting\n",
    "\n",
    "[Linux Shell Scripting Tutorial - A Beginner's handbook](http://www.freeos.com/guides/lsst/)"
   ]
  },
  {
   "cell_type": "markdown",
   "metadata": {},
   "source": [
    "### Regex\n",
    "[Regex Cheat Sheet](http://www.rexegg.com/regex-quickstart.html)"
   ]
  }
 ],
 "metadata": {
  "kernelspec": {
   "display_name": "Python 3",
   "language": "python",
   "name": "python3"
  },
  "language_info": {
   "codemirror_mode": {
    "name": "ipython",
    "version": 3
   },
   "file_extension": ".py",
   "mimetype": "text/x-python",
   "name": "python",
   "nbconvert_exporter": "python",
   "pygments_lexer": "ipython3",
   "version": "3.5.1"
  }
 },
 "nbformat": 4,
 "nbformat_minor": 2
}
