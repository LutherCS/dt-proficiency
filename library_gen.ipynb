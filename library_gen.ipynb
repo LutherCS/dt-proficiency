{
 "cells": [
  {
   "cell_type": "markdown",
   "metadata": {},
   "source": [
    "**Generate a list of books**"
   ]
  },
  {
   "cell_type": "code",
   "execution_count": 31,
   "metadata": {
    "collapsed": false
   },
   "outputs": [],
   "source": [
    "#!/usr/bin/env python3\n",
    "\n",
    "import random\n",
    "\n",
    "AUTHORS_FIRST = [\"Alice\", \"Bob\", \"Charlie\", \"David\", \"Eve\", \"Frank\", \"Gerry\", \"Harry\", \"Irene\", \"Jenny\"]\n",
    "AUTHORS_LAST = [\"Kurose\", \"Lee\", \"Miller\", \"Null\", \"O'Reilly\", \"Patterson\", \"Quicksilver\", \"Ross\", \"Silberschatz\", \"Tanenbaum\"]\n",
    "TITLES_ADV = [\"Introduction to\", \"Mastering\", \"Developing\", \"Advanced\", \"Hacking\", \"Understanding\", \"Diving into\"]\n",
    "TITLES_ADJ = [\"Java\", \"C++\", \"Python\", \"Secure\", \"Computer\", \"Hardware\", \"Database\", \"Web\", \"Game\", \"Operating\"]\n",
    "TITLES_NOUN = [\"Basics\", \"Fundamentals\", \"Concepts\", \"Systems\", \"Security\", \"Problems\", \"Networks\", \"Principles\"]\n",
    "\n",
    "class Book:\n",
    "    '''Book class'''\n",
    "    def __init__(self):\n",
    "        '''\n",
    "        Create a new book object\n",
    "        isbn author(s) title year edition\n",
    "        '''\n",
    "        self._isbn = ''.join([str(random.randint(0, 9)) for _ in range(13)])\n",
    "        self._authors = self.authors()\n",
    "        self._title = self.title()\n",
    "        self._edition = random.randint(1, 9)\n",
    "        self._year = random.randint(1990, 2017)\n",
    "        self._price = random.random() * 100\n",
    "\n",
    "    def authors(self):\n",
    "        '''Generate the author(s)'''\n",
    "        authors_str = random.choice(AUTHORS_FIRST) + ' ' + random.choice(AUTHORS_LAST)\n",
    "        if random.random() > 0.5:\n",
    "            authors_str += ' & ' + random.choice(AUTHORS_FIRST) + ' ' + random.choice(AUTHORS_LAST)\n",
    "        return authors_str\n",
    "\n",
    "    def title(self):\n",
    "        '''Generate the title'''\n",
    "        if random.random() > 0.5:\n",
    "            return random.choice(TITLES_ADV) + ' ' + random.choice(TITLES_ADJ) + ' ' + random.choice(TITLES_NOUN)\n",
    "        else:\n",
    "            return random.choice(TITLES_ADJ) + ' ' + random.choice(TITLES_NOUN)\n",
    "\n",
    "    def __str__(self):\n",
    "        '''Convert a book to a string'''\n",
    "        return \"{:15}{:40}{:^5}{:45}{:5}{:8.2f}\".format(self._isbn, self._title, self._edition, self._authors, self._year, self._price)\n",
    "\n",
    "with open(\"library.txt\", 'w') as file_out:\n",
    "    file_out.write(\"{:15}{:40}{:^5}{:45}{:>5}{:^10}\".format(\"ISBN\", \"Title\", \"Ed\", \"Author(s)\", \"Year\", \"Price\") + '\\n')\n",
    "    for _ in range(100):\n",
    "        b = Book()\n",
    "        file_out.write(str(b) + '\\n')\n"
   ]
  }
 ],
 "metadata": {
  "kernelspec": {
   "display_name": "Python 3",
   "language": "python",
   "name": "python3"
  },
  "language_info": {
   "codemirror_mode": {
    "name": "ipython",
    "version": 3
   },
   "file_extension": ".py",
   "mimetype": "text/x-python",
   "name": "python",
   "nbconvert_exporter": "python",
   "pygments_lexer": "ipython3",
   "version": "3.5.1"
  }
 },
 "nbformat": 4,
 "nbformat_minor": 2
}
